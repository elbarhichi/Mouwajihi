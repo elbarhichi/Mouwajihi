{
 "cells": [
  {
   "cell_type": "code",
   "execution_count": 1,
   "metadata": {},
   "outputs": [
    {
     "data": {
      "text/plain": [
       "True"
      ]
     },
     "execution_count": 1,
     "metadata": {},
     "output_type": "execute_result"
    }
   ],
   "source": [
    "import dotenv\n",
    "\n",
    "dotenv.load_dotenv()"
   ]
  },
  {
   "cell_type": "code",
   "execution_count": 2,
   "metadata": {},
   "outputs": [
    {
     "name": "stderr",
     "output_type": "stream",
     "text": [
      "c:\\Users\\moham\\AppData\\Local\\Programs\\Python\\Python312\\Lib\\site-packages\\tqdm\\auto.py:21: TqdmWarning: IProgress not found. Please update jupyter and ipywidgets. See https://ipywidgets.readthedocs.io/en/stable/user_install.html\n",
      "  from .autonotebook import tqdm as notebook_tqdm\n"
     ]
    }
   ],
   "source": [
    "from langchain_google_genai import ChatGoogleGenerativeAI\n",
    "\n",
    "llm=ChatGoogleGenerativeAI(model=\"gemini-pro\")\n",
    "\n",
    "# llm = ChatVertexAI(model=\"gemini-pro\")"
   ]
  },
  {
   "cell_type": "code",
   "execution_count": 22,
   "metadata": {},
   "outputs": [],
   "source": [
    "from langchain_community.document_loaders import PyPDFLoader\n",
    "\n",
    "loader = PyPDFLoader(\"insea-actuariat.pdf\")\n",
    "docs = loader.load()"
   ]
  },
  {
   "cell_type": "code",
   "execution_count": 23,
   "metadata": {},
   "outputs": [
    {
     "data": {
      "text/plain": [
       "[Document(page_content=\"COMPETENCES A ACQUERIR\\n     Les ingénieurs diplômés de la filière Actuariat-Finance\\nauront les compétences nécessaires pour occuper rapidement\\ndes responsabilités de cadres supérieures dans le secteur des\\nbanques et assurances. Les lauréats de la filière Actuariat-\\nFinance seront capables de dominer les aspects technique et\\nmanagérial qui les qualifient à s'insérer dans plusieurs\\nsecteurs. La nature même de la formation en statistique de\\nl’INSEA permet aux diplômés de la filière Actuariat-Finance\\nd’être en premier des statisticiens capables de développer une\\nexpertise scientifique de très haut niveau et d’appliquer leurs\\ncompétences mathématiques, informatiques et statistiques\\npour développer des modèles dans une grande variété de\\ncontextes. \\nDÉBOUCHÉS DE LA FORMATIONFILIÈRE \\nACTUARIAT-FINANCE\\nOBJECTIFS DE LA FORMATION \\nFINANCIAL FREEDOM\\nFOR X GENERATION          Le programme de la filière a connu une évolution importante d’une\\naccréditation à une autre dans l’objectif de s’adapter aux besoins du marché et\\naux changements de la réglementation en Finance et Assurance. Il s’agit d’une\\nformation solide dans les deux domaines les plus demandés actuellement dans\\nle secteur assuranciel et financier : Actuariat et Finance du marché. Cette\\nformation continue à doté le secteur bancaire et celui de l’assurance de cadres\\nde haut niveau ayant une culture globale des disciplines de la finance\\nquantitative, la tarification et la gestion des risques au sein des compagnies\\nd'assurance. L’objectif est de former des ingénieurs capables d’innover et de\\nproposer de nouvelles méthodes d’analyse afin de conduire jusqu’au bout des\\nétudes pour modéliser mathématiquement les risques financiers et\\nassuranciels (élaboration et valorisation des contrats d'assurance, évaluation\\nde produits dérivés, choix d'investissements, gestion des risques financiers …).\\n       La formation accorde aussi une grande importance aux aspects juridiques,\\ncomptables, fiscaux et commerciaux dans lesquels se situe l’intervention de\\nl’ingénieur actuaire financier. Le cursus de la filière Actuariat-Finance se\\ncaractérise par la richesse des cours avancés en statistique, économétrie et\\néconomie financière, ainsi qu’un niveau élevé en mathématiques appliquées. Le\\ncursus universitaire d’un actuaire, de niveau Bac+5, est de nature scientifique,\\navec un caractère pluridisciplinaire marqué. Spécialiste de la gestion des\\nrisques, l'actuaire ou ingénieur du risque est chargé de proposer des modèles\\nstochastiques, basés sur la théorie des probabilités, permettant de gérer\\nl'évolution incertaine de l'environnement assurantiel et financier. Cependant,\\nl’actuaire n’utilise pas que des outils mathématiques, mais son travail aboutit à\\ndes décisions d’ordre économiques et financières. \\n      Pour cela, il doit également disposer d’une connaissance approfondie en\\néconomie, en droit, en fiscalité, en informatique et en gestion et management.Actuaire \\nIngénieur recherche et développement « quants » \\nFinancial and Actuarial Data scientist\\nTraders \\nIngénieurs financiers \\nGestionnaire de portefeuille      Les lauréats de la filière Actuariat-Finance peuvent\\nexercer des métiers d’ingénierie aussi variés que : \\nLa multiplication des secteurs d’activité qui recourent désormais à des\\nprofils d’actuaires et financiers est sans doute le point le plus marquant\\nqui modifie les possibilités de débouché professionnel. Les banques, les\\ncompagnies d’assurance, les mutuelles et institutions de prévoyance, les\\ncaisses de retraites, les cabinets d’audit et de conseil, les salles des\\nmarchés, etc., recrutent de plus en plus de spécialistes en modélisations\\nprévisionnelles. Les perspectives de carrières sont extrêmement\\nvariées, ce qui constitue un des principaux attraits de la formation. En\\n2021, le métier d’actuaire a fait partie des « Ten Best jobs of 2021 :\\nwww.careercast.com/jobs-rated/best-jobs-2021 » \", metadata={'source': 'insea-actuariat.pdf', 'page': 0}),\n",
       " Document(page_content='SEMESTRE 1 \\nPROBABILITES \\nSTATISTIQUE DESCRIPTIVE \\nALGORITHMIQUE & PROGRAMMATION \\nGESTION DES BASES DE DONNEES \\nMETHODES NUMERIQUES \\nMATHEMATIQUES FINANCIERES \\nHISTOIRE ET PRINCIPES DE L’ECONOMIE  \\nCOMMUNICATION & SOCIAL SCIENCES I\\nSEMESTRE 2 \\nMETHODES ET PRINCIPES STATISTIQUES \\nANALYSE ECONOMIQUE \\nMODELISATION STOCHASTIQUE \\nOPTIMISATION \\nPROGRAMMATION ORIENTEE OBJET \\nPROGRAMMATION AVANCEE \\nENTREPRENARIAT & GESTION D’ENTREPRISE \\nCOMMUNICATION & SCIENCES SOCIALES IISEMESTRE 3 \\nMODÉLISATION LINÉAIRE \\nFINANCE DE MARCHE \\nPROGRAMMATION ORIENTEE OBJET AVANCEE \\nTECHNIQUES ACTUARIELLES \\nASSURANCE VIE \\nANALYSE DES DONNEES \\nGESTION BANCAIRE \\nCOMMUNICATION & SCIENCES SOCIALES III\\nSEMESTRE 4 \\nRETRAITE & PREVOYANCE \\nASSURANCE NON VIE \\nAPPRENTISSAGE STATISTIQUE \\nFINANCE QUANTITATIVE \\nMODELES DE DUREE \\nMODÉLISATION LINÉAIRE AVANCÉE \\nGESTION ACTUARIELLE \\nCOMMUNICATION & SCIENCES SOCIALES IV\\nSEMESTRE 5 \\nECONOMETRIE FINANCIERE \\nGESTION ET TRANSFERT DES RISQUES \\nMETHODES NUMERIQUES POUR LA FINANCE \\nMODELISATION STATISTIQUE AVANCEE \\nPRATIQUE ET NORMES ACTUARIELLES \\nFINANCE QUANTITATIVE AVANCEE \\nCOMPTABILITE & GESTION ALM \\nPROFESSIONNALISMELISTE DES MODULES\\nSEMESTRE 6 : Projet de fin d’études', metadata={'source': 'insea-actuariat.pdf', 'page': 1})]"
      ]
     },
     "execution_count": 23,
     "metadata": {},
     "output_type": "execute_result"
    }
   ],
   "source": [
    "docs"
   ]
  },
  {
   "cell_type": "code",
   "execution_count": 26,
   "metadata": {},
   "outputs": [],
   "source": [
    "from langchain_text_splitters import RecursiveCharacterTextSplitter\n",
    "\n",
    "text_splitter = RecursiveCharacterTextSplitter(chunk_size=1000, chunk_overlap=0)\n",
    "splits = text_splitter.split_documents(docs)"
   ]
  },
  {
   "cell_type": "code",
   "execution_count": 27,
   "metadata": {},
   "outputs": [
    {
     "data": {
      "text/plain": [
       "[Document(page_content=\"COMPETENCES A ACQUERIR\\n     Les ingénieurs diplômés de la filière Actuariat-Finance\\nauront les compétences nécessaires pour occuper rapidement\\ndes responsabilités de cadres supérieures dans le secteur des\\nbanques et assurances. Les lauréats de la filière Actuariat-\\nFinance seront capables de dominer les aspects technique et\\nmanagérial qui les qualifient à s'insérer dans plusieurs\\nsecteurs. La nature même de la formation en statistique de\\nl’INSEA permet aux diplômés de la filière Actuariat-Finance\\nd’être en premier des statisticiens capables de développer une\\nexpertise scientifique de très haut niveau et d’appliquer leurs\\ncompétences mathématiques, informatiques et statistiques\\npour développer des modèles dans une grande variété de\\ncontextes. \\nDÉBOUCHÉS DE LA FORMATIONFILIÈRE \\nACTUARIAT-FINANCE\\nOBJECTIFS DE LA FORMATION \\nFINANCIAL FREEDOM\\nFOR X GENERATION          Le programme de la filière a connu une évolution importante d’une\", metadata={'source': 'insea-actuariat.pdf', 'page': 0}),\n",
       " Document(page_content=\"accréditation à une autre dans l’objectif de s’adapter aux besoins du marché et\\naux changements de la réglementation en Finance et Assurance. Il s’agit d’une\\nformation solide dans les deux domaines les plus demandés actuellement dans\\nle secteur assuranciel et financier : Actuariat et Finance du marché. Cette\\nformation continue à doté le secteur bancaire et celui de l’assurance de cadres\\nde haut niveau ayant une culture globale des disciplines de la finance\\nquantitative, la tarification et la gestion des risques au sein des compagnies\\nd'assurance. L’objectif est de former des ingénieurs capables d’innover et de\\nproposer de nouvelles méthodes d’analyse afin de conduire jusqu’au bout des\\nétudes pour modéliser mathématiquement les risques financiers et\\nassuranciels (élaboration et valorisation des contrats d'assurance, évaluation\\nde produits dérivés, choix d'investissements, gestion des risques financiers …).\\n       La formation accorde aussi une grande importance aux aspects juridiques,\", metadata={'source': 'insea-actuariat.pdf', 'page': 0}),\n",
       " Document(page_content=\"comptables, fiscaux et commerciaux dans lesquels se situe l’intervention de\\nl’ingénieur actuaire financier. Le cursus de la filière Actuariat-Finance se\\ncaractérise par la richesse des cours avancés en statistique, économétrie et\\néconomie financière, ainsi qu’un niveau élevé en mathématiques appliquées. Le\\ncursus universitaire d’un actuaire, de niveau Bac+5, est de nature scientifique,\\navec un caractère pluridisciplinaire marqué. Spécialiste de la gestion des\\nrisques, l'actuaire ou ingénieur du risque est chargé de proposer des modèles\\nstochastiques, basés sur la théorie des probabilités, permettant de gérer\\nl'évolution incertaine de l'environnement assurantiel et financier. Cependant,\\nl’actuaire n’utilise pas que des outils mathématiques, mais son travail aboutit à\\ndes décisions d’ordre économiques et financières. \\n      Pour cela, il doit également disposer d’une connaissance approfondie en\\néconomie, en droit, en fiscalité, en informatique et en gestion et management.Actuaire\", metadata={'source': 'insea-actuariat.pdf', 'page': 0}),\n",
       " Document(page_content='Ingénieur recherche et développement « quants » \\nFinancial and Actuarial Data scientist\\nTraders \\nIngénieurs financiers \\nGestionnaire de portefeuille      Les lauréats de la filière Actuariat-Finance peuvent\\nexercer des métiers d’ingénierie aussi variés que : \\nLa multiplication des secteurs d’activité qui recourent désormais à des\\nprofils d’actuaires et financiers est sans doute le point le plus marquant\\nqui modifie les possibilités de débouché professionnel. Les banques, les\\ncompagnies d’assurance, les mutuelles et institutions de prévoyance, les\\ncaisses de retraites, les cabinets d’audit et de conseil, les salles des\\nmarchés, etc., recrutent de plus en plus de spécialistes en modélisations\\nprévisionnelles. Les perspectives de carrières sont extrêmement\\nvariées, ce qui constitue un des principaux attraits de la formation. En\\n2021, le métier d’actuaire a fait partie des « Ten Best jobs of 2021 :\\nwww.careercast.com/jobs-rated/best-jobs-2021 »', metadata={'source': 'insea-actuariat.pdf', 'page': 0}),\n",
       " Document(page_content='SEMESTRE 1 \\nPROBABILITES \\nSTATISTIQUE DESCRIPTIVE \\nALGORITHMIQUE & PROGRAMMATION \\nGESTION DES BASES DE DONNEES \\nMETHODES NUMERIQUES \\nMATHEMATIQUES FINANCIERES \\nHISTOIRE ET PRINCIPES DE L’ECONOMIE  \\nCOMMUNICATION & SOCIAL SCIENCES I\\nSEMESTRE 2 \\nMETHODES ET PRINCIPES STATISTIQUES \\nANALYSE ECONOMIQUE \\nMODELISATION STOCHASTIQUE \\nOPTIMISATION \\nPROGRAMMATION ORIENTEE OBJET \\nPROGRAMMATION AVANCEE \\nENTREPRENARIAT & GESTION D’ENTREPRISE \\nCOMMUNICATION & SCIENCES SOCIALES IISEMESTRE 3 \\nMODÉLISATION LINÉAIRE \\nFINANCE DE MARCHE \\nPROGRAMMATION ORIENTEE OBJET AVANCEE \\nTECHNIQUES ACTUARIELLES \\nASSURANCE VIE \\nANALYSE DES DONNEES \\nGESTION BANCAIRE \\nCOMMUNICATION & SCIENCES SOCIALES III\\nSEMESTRE 4 \\nRETRAITE & PREVOYANCE \\nASSURANCE NON VIE \\nAPPRENTISSAGE STATISTIQUE \\nFINANCE QUANTITATIVE \\nMODELES DE DUREE \\nMODÉLISATION LINÉAIRE AVANCÉE \\nGESTION ACTUARIELLE \\nCOMMUNICATION & SCIENCES SOCIALES IV\\nSEMESTRE 5 \\nECONOMETRIE FINANCIERE \\nGESTION ET TRANSFERT DES RISQUES \\nMETHODES NUMERIQUES POUR LA FINANCE', metadata={'source': 'insea-actuariat.pdf', 'page': 1}),\n",
       " Document(page_content='MODELISATION STATISTIQUE AVANCEE \\nPRATIQUE ET NORMES ACTUARIELLES \\nFINANCE QUANTITATIVE AVANCEE \\nCOMPTABILITE & GESTION ALM \\nPROFESSIONNALISMELISTE DES MODULES\\nSEMESTRE 6 : Projet de fin d’études', metadata={'source': 'insea-actuariat.pdf', 'page': 1})]"
      ]
     },
     "execution_count": 27,
     "metadata": {},
     "output_type": "execute_result"
    }
   ],
   "source": [
    "splits"
   ]
  },
  {
   "cell_type": "code",
   "execution_count": 33,
   "metadata": {},
   "outputs": [],
   "source": [
    "from langchain_community.vectorstores import FAISS\n",
    "from langchain_google_genai import GoogleGenerativeAIEmbeddings\n",
    "\n",
    "\n",
    "vectorstore = FAISS.from_documents(splits, GoogleGenerativeAIEmbeddings(model=\"models/embedding-001\"))"
   ]
  },
  {
   "cell_type": "code",
   "execution_count": 34,
   "metadata": {},
   "outputs": [
    {
     "name": "stdout",
     "output_type": "stream",
     "text": [
      "COMPETENCES A ACQUERIR\n",
      "     Les ingénieurs diplômés de la filière Actuariat-Finance\n",
      "auront les compétences nécessaires pour occuper rapidement\n",
      "des responsabilités de cadres supérieures dans le secteur\n",
      "\n",
      "\n",
      "accréditation à une autre dans l’objectif de s’adapter aux besoins du marché et\n",
      "aux changements de la réglementation en Finance et Assurance. Il s’agit d’une\n",
      "formation solide dans les deux domaines le\n",
      "\n",
      "\n",
      "Ingénieur recherche et développement « quants » \n",
      "Financial and Actuarial Data scientist\n",
      "Traders \n",
      "Ingénieurs financiers \n",
      "Gestionnaire de portefeuille      Les lauréats de la filière Actuariat-Finance p\n",
      "\n",
      "\n",
      "comptables, fiscaux et commerciaux dans lesquels se situe l’intervention de\n",
      "l’ingénieur actuaire financier. Le cursus de la filière Actuariat-Finance se\n",
      "caractérise par la richesse des cours avancés e\n",
      "\n",
      "\n",
      "SEMESTRE 1 \n",
      "PROBABILITES \n",
      "STATISTIQUE DESCRIPTIVE \n",
      "ALGORITHMIQUE & PROGRAMMATION \n",
      "GESTION DES BASES DE DONNEES \n",
      "METHODES NUMERIQUES \n",
      "MATHEMATIQUES FINANCIERES \n",
      "HISTOIRE ET PRINCIPES DE L’ECONOMIE  \n",
      "CO\n",
      "\n",
      "\n"
     ]
    }
   ],
   "source": [
    "\n",
    "docs_search = vectorstore.similarity_search(\"quelles sont les COMPETENCES des diplomés de la filiere actuaiat-finance de l'insea\", k=5)\n",
    "for doc in docs_search:\n",
    "    print(doc.page_content[:200])\n",
    "    print(\"\\n\")"
   ]
  },
  {
   "cell_type": "code",
   "execution_count": 36,
   "metadata": {},
   "outputs": [],
   "source": [
    "from langchain import hub\n",
    "from langchain_core.output_parsers import StrOutputParser\n",
    "from langchain_core.runnables import RunnablePassthrough\n",
    "\n",
    "# Retrieve and generate using the relevant snippets of the blog.\n",
    "retriever = vectorstore.as_retriever()\n",
    "\n",
    "prompt = hub.pull(\"rlm/rag-prompt\")\n",
    "\n",
    "def format_docs(docs):\n",
    "    return \"\\n\\n\".join(doc.page_content for doc in docs)\n",
    "\n",
    "\n",
    "rag_chain = (\n",
    "    {\"context\": retriever | format_docs, \"question\": RunnablePassthrough()}\n",
    "    | prompt\n",
    "    | llm\n",
    "    | StrOutputParser()\n",
    ")"
   ]
  },
  {
   "cell_type": "code",
   "execution_count": 38,
   "metadata": {},
   "outputs": [
    {
     "data": {
      "text/plain": [
       "\"Les diplômés de la filière actuariat-finance de l'INSEA acquièrent les compétences nécessaires pour occuper des postes de cadres supérieurs dans les secteurs bancaires et des assurances. Ils maîtrisent les aspects techniques et managériaux, et sont capables de développer des modèles dans divers contextes grâce à leurs compétences mathématiques, informatiques et statistiques. La formation leur permet également de dominer les aspects juridiques, comptables, fiscaux et commerciaux liés à leur domaine.\""
      ]
     },
     "execution_count": 38,
     "metadata": {},
     "output_type": "execute_result"
    }
   ],
   "source": [
    "rag_chain.invoke(\"quelles sont les COMPETENCES des diplomés de la filiere actuaiat-finance de l'insea\")"
   ]
  }
 ],
 "metadata": {
  "kernelspec": {
   "display_name": "Python 3",
   "language": "python",
   "name": "python3"
  },
  "language_info": {
   "codemirror_mode": {
    "name": "ipython",
    "version": 3
   },
   "file_extension": ".py",
   "mimetype": "text/x-python",
   "name": "python",
   "nbconvert_exporter": "python",
   "pygments_lexer": "ipython3",
   "version": "3.12.2"
  }
 },
 "nbformat": 4,
 "nbformat_minor": 2
}
